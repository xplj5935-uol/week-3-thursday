{
 "cells": [
  {
   "cell_type": "code",
   "execution_count": 57,
   "metadata": {},
   "outputs": [
    {
     "name": "stdout",
     "output_type": "stream",
     "text": [
      "{'abc': 1, 'a': 2, 'alice': 20}\n",
      "20\n",
      "None\n"
     ]
    },
    {
     "data": {
      "text/plain": [
       "dict_keys(['abc', 'a', 'alice'])"
      ]
     },
     "execution_count": 57,
     "metadata": {},
     "output_type": "execute_result"
    }
   ],
   "source": [
    "# you can create dictionaries in two ways, a\n",
    "# using curly brackets and using a list\n",
    "dict = {'abc':1, 'a':2, 'alice':20}\n",
    "print(dict)\n",
    "#This prints the dictionary. Essentially a dictionary is used to map a key (lets \n",
    "#say a word, ) to a definition similar to real vocab dictonary\n",
    "#we can also use a constructor dict()\n",
    "\n",
    "#print(points)\n",
    "#we can also put a number as a key rather than a string \n",
    "# we can also access the definition from the key using the prompt dict\n",
    "print(dict['alice'])\n",
    "#this prints the value of alices age 20\n",
    "#there is also an additional value get, which returns none if the key is not present \n",
    "#in the dictionary \n",
    "print(dict.get('bob'))\n",
    "#this returns none, as bobs age isnt listed in the dictionary\n",
    "#dict is a keyword, so we dont have to use the string notation\n",
    "# the command my_dict.keys() will return all the keys in the dictionary\n",
    "dict.keys()\n"
   ]
  },
  {
   "cell_type": "code",
   "execution_count": 58,
   "metadata": {},
   "outputs": [
    {
     "name": "stdout",
     "output_type": "stream",
     "text": [
      "b\n"
     ]
    }
   ],
   "source": [
    "# hreverse lookup to find the key to a corresponding value\n",
    "def reverse_lookup(d,v):\n",
    "    # a simple for look to find the corresponding value\n",
    "    for key in d:\n",
    "        if d[key] == v:\n",
    "\n",
    "            return key\n",
    "    raise LookupError('no corresponding value found')\n",
    "        \n",
    "#\n",
    "d = {'a':1, 'b':2, 'c':3}\n",
    "print(reverse_lookup(d,2))\n",
    "\n",
    "    \n"
   ]
  },
  {
   "cell_type": "code",
   "execution_count": 59,
   "metadata": {},
   "outputs": [
    {
     "name": "stdout",
     "output_type": "stream",
     "text": [
      "(1, 2, 3)\n",
      "[10, 2, 3, 4, 5, 6]\n"
     ]
    },
    {
     "ename": "TypeError",
     "evalue": "'tuple' object does not support item assignment",
     "output_type": "error",
     "traceback": [
      "\u001b[0;31m---------------------------------------------------------------------------\u001b[0m",
      "\u001b[0;31mTypeError\u001b[0m                                 Traceback (most recent call last)",
      "Cell \u001b[0;32mIn[59], line 10\u001b[0m\n\u001b[1;32m      8\u001b[0m \u001b[38;5;28mprint\u001b[39m(my_list)\n\u001b[1;32m      9\u001b[0m \u001b[38;5;66;03m# this modifies the list, lets try doing the same with the tuples t \u001b[39;00m\n\u001b[0;32m---> 10\u001b[0m \u001b[43mt\u001b[49m\u001b[43m[\u001b[49m\u001b[38;5;241;43m2\u001b[39;49m\u001b[43m]\u001b[49m \u001b[38;5;241m=\u001b[39m \u001b[38;5;241m100\u001b[39m\n\u001b[1;32m     11\u001b[0m \u001b[38;5;28mprint\u001b[39m(t)\n\u001b[1;32m     12\u001b[0m \u001b[38;5;66;03m#printing t again produces an error, saying we cannot reassign values \u001b[39;00m\n",
      "\u001b[0;31mTypeError\u001b[0m: 'tuple' object does not support item assignment"
     ]
    }
   ],
   "source": [
    "# tuples are a type of list but they are immutable, \n",
    "#which means their contents cannot be cganged\n",
    "t = (1,2,3)\n",
    "print(t)\n",
    "#we also cannot modify tuples the way we do lists\n",
    "my_list = [1,2,3,4,5,6]\n",
    "my_list[0]=10\n",
    "print(my_list)\n",
    "# this modifies the list, lets try doing the same with the tuples t \n",
    "t[2] = 100\n",
    "print(t)\n",
    "#printing t again produces an error, saying we cannot reassign values \n"
   ]
  },
  {
   "cell_type": "code",
   "execution_count": 61,
   "metadata": {},
   "outputs": [
    {
     "ename": "SyntaxError",
     "evalue": "invalid syntax (2498962710.py, line 7)",
     "output_type": "error",
     "traceback": [
      "\u001b[0;36m  Cell \u001b[0;32mIn[61], line 7\u001b[0;36m\u001b[0m\n\u001b[0;31m    locations{'tokyo':(35.5,23,4)}\u001b[0m\n\u001b[0m             ^\u001b[0m\n\u001b[0;31mSyntaxError\u001b[0m\u001b[0;31m:\u001b[0m invalid syntax\n"
     ]
    }
   ],
   "source": [
    "#tuples dont need brackets to define them \n",
    "t = 1,2,3,4\n",
    "print(t)\n",
    "# since tuples are immutable, we can use them in dictionaries , a\n",
    "#as generally dictionaries are unedited \n",
    "locations = {}\n",
    "locations{'tokyo':(35.5,23,4)}\n",
    "print(locations)\n"
   ]
  }
 ],
 "metadata": {
  "kernelspec": {
   "display_name": "Python 3",
   "language": "python",
   "name": "python3"
  },
  "language_info": {
   "codemirror_mode": {
    "name": "ipython",
    "version": 3
   },
   "file_extension": ".py",
   "mimetype": "text/x-python",
   "name": "python",
   "nbconvert_exporter": "python",
   "pygments_lexer": "ipython3",
   "version": "3.12.1"
  }
 },
 "nbformat": 4,
 "nbformat_minor": 2
}
